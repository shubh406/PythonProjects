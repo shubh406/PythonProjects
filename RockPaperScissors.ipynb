{
 "cells": [
  {
   "cell_type": "code",
   "execution_count": 13,
   "metadata": {},
   "outputs": [
    {
     "name": "stdout",
     "output_type": "stream",
     "text": [
      "Enter your name: SHubh\n",
      "Hello,  SHubh\n",
      "scissors\n",
      "Well Done. Computer chose paper and failed\n",
      "Bye!\n"
     ]
    }
   ],
   "source": [
    "import random\n",
    "\n",
    "def get_result(computer_turn,user_turn):\n",
    "    winning_option = {}\n",
    "    winning_option[\"scissors\"] = \"rock\"\n",
    "    winning_option[\"rock\"] = \"paper\"\n",
    "    winning_option[\"paper\"] = \"scissors\"\n",
    "    if winning_option[user_turn] == computer_turn:\n",
    "        return \"Sorry, but computer chose \" + str(computer_turn)\n",
    "    elif user_turn == computer_turn:\n",
    "        return \"There is a draw (\" + str(computer_turn) + ')'\n",
    "    else:\n",
    "        return \"Well Done. Computer chose \" + str(computer_turn) + \" and failed\"\n",
    "        \n",
    "\n",
    "def computer_choice():\n",
    "    d={}\n",
    "    d[1] = \"scissors\"\n",
    "    d[2] = \"rock\"\n",
    "    d[3] = \"paper\"\n",
    "    computer_option = random.choice([1,2,3])\n",
    "    return d[computer_option]\n",
    "\n",
    "\n",
    "def input_output():\n",
    "    \n",
    "    user_name = input(\"Enter your name: \")\n",
    "    print(\"Hello, \",user_name)\n",
    "    \n",
    "    file.open(\"rating.txt\",\"r+\")\n",
    "    if file.mode == 'r':\n",
    "        contents = file.read()\n",
    "    \n",
    "    \n",
    "    \n",
    "    options_dict = [\"scissors\",\"paper\",\"rock\",\"Bye!\",\"!exit\"]\n",
    "    while True:\n",
    "        user_turn = input()\n",
    "        if user_turn not in options_dict:\n",
    "            print(\"Invalid input\")\n",
    "        elif user_turn == \"Bye!\" or user_turn == \"!exit\":\n",
    "            break\n",
    "        else:\n",
    "            computer_turn = computer_choice()\n",
    "            ans = get_result(computer_turn,user_turn)\n",
    "            print(ans)\n",
    "            \n",
    "            \n",
    "input_output()"
   ]
  },
  {
   "cell_type": "code",
   "execution_count": null,
   "metadata": {},
   "outputs": [],
   "source": []
  }
 ],
 "metadata": {
  "kernelspec": {
   "display_name": "Python 3",
   "language": "python",
   "name": "python3"
  },
  "language_info": {
   "codemirror_mode": {
    "name": "ipython",
    "version": 3
   },
   "file_extension": ".py",
   "mimetype": "text/x-python",
   "name": "python",
   "nbconvert_exporter": "python",
   "pygments_lexer": "ipython3",
   "version": "3.6.8"
  }
 },
 "nbformat": 4,
 "nbformat_minor": 2
}
